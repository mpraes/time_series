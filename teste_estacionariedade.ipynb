{
 "cells": [
  {
   "cell_type": "code",
   "execution_count": 8,
   "metadata": {},
   "outputs": [],
   "source": [
    "import pandas as pd\n",
    "import numpy as np\n",
    "import matplotlib.pylab as plt\n",
    "%matplotlib inline\n",
    "from matplotlib.pylab import rcParams\n",
    "rcParams['figure.figsize'] = [16,8] "
   ]
  },
  {
   "cell_type": "code",
   "execution_count": 9,
   "metadata": {},
   "outputs": [],
   "source": [
    "df = pd.read_excel('base_volume_portos.xlsx')\n",
    "planta_fase = input('Descreva a planta e a fase: ')\n",
    "df_2 = df[df['PLANTA_PROCESSO'] == planta_fase]\n",
    "df_g = df_2.resample(rule='M', on='DATA')['VALOR'].sum()\n",
    "titulo_grafico = df_2['PLANTA_PROCESSO'].unique()[0]"
   ]
  },
  {
   "cell_type": "code",
   "execution_count": 10,
   "metadata": {},
   "outputs": [
    {
     "data": {
      "text/plain": [
       "DATA\n",
       "2017-08-31     151292.0\n",
       "2017-09-30    3640588.0\n",
       "2017-10-31    3714864.0\n",
       "2017-11-30    3382492.0\n",
       "2017-12-31    3136424.0\n",
       "Freq: M, Name: VALOR, dtype: float64"
      ]
     },
     "execution_count": 10,
     "metadata": {},
     "output_type": "execute_result"
    }
   ],
   "source": [
    "df_g.head()"
   ]
  },
  {
   "cell_type": "code",
   "execution_count": 11,
   "metadata": {},
   "outputs": [],
   "source": [
    "#Teste proposto por Dick Fuller bastante comum para Estacionariedade\n",
    "from statsmodels.tsa.stattools import adfuller"
   ]
  },
  {
   "cell_type": "code",
   "execution_count": 12,
   "metadata": {},
   "outputs": [
    {
     "name": "stdout",
     "output_type": "stream",
     "text": [
      "ADF estatísticas: -2.419630\n",
      "Valor de P: 0.136272\n",
      "Valores Críticos: %f\n",
      "\t1%: -3.546\n",
      "\t5%: -2.912\n",
      "\t10%: -2.594\n"
     ]
    }
   ],
   "source": [
    "resultado_adf = adfuller(df_g)\n",
    "print(\"ADF estatísticas: %f\" % resultado_adf[0])\n",
    "print(\"Valor de P: %f\" % resultado_adf[1])\n",
    "print(\"Valores Críticos: %f\")\n",
    "for key, value in resultado_adf[4].items():\n",
    "    print('\\t%s: %.3f' % (key,value))\n",
    "\n",
    "# Se o resultado for menor que 0.05, então sugere que a série selecionada é Estacionária"
   ]
  },
  {
   "cell_type": "code",
   "execution_count": null,
   "metadata": {},
   "outputs": [],
   "source": []
  }
 ],
 "metadata": {
  "kernelspec": {
   "display_name": "Python 3",
   "language": "python",
   "name": "python3"
  },
  "language_info": {
   "codemirror_mode": {
    "name": "ipython",
    "version": 3
   },
   "file_extension": ".py",
   "mimetype": "text/x-python",
   "name": "python",
   "nbconvert_exporter": "python",
   "pygments_lexer": "ipython3",
   "version": "3.9.10 (tags/v3.9.10:f2f3f53, Jan 17 2022, 15:14:21) [MSC v.1929 64 bit (AMD64)]"
  },
  "orig_nbformat": 4,
  "vscode": {
   "interpreter": {
    "hash": "7d62a96da172c70c1e5d187d78197a80bb9190cfe93c20bfc144dedb83f5f18d"
   }
  }
 },
 "nbformat": 4,
 "nbformat_minor": 2
}
