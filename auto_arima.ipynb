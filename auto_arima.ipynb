{
 "cells": [
  {
   "cell_type": "code",
   "execution_count": 37,
   "metadata": {},
   "outputs": [],
   "source": [
    "import pandas as pd\n",
    "import numpy as np\n",
    "import matplotlib.pylab as plt\n",
    "%matplotlib inline\n",
    "from matplotlib.pylab import rcParams\n",
    "rcParams['figure.figsize'] = [16,8]"
   ]
  },
  {
   "attachments": {},
   "cell_type": "markdown",
   "metadata": {},
   "source": [
    "### Este modelo nos ajuda a automaticamente interpretar os diagramas de ACF, PACF, melhores médias móveis, etc. Também tem o elemento sazonal"
   ]
  },
  {
   "cell_type": "code",
   "execution_count": 38,
   "metadata": {},
   "outputs": [],
   "source": [
    "df = pd.read_excel('serie_historica_volume_portos.xlsx')\n",
    "planta = input(\"Qual planta e processo para escolher: \")"
   ]
  },
  {
   "cell_type": "code",
   "execution_count": 39,
   "metadata": {},
   "outputs": [
    {
     "data": {
      "text/html": [
       "<div>\n",
       "<style scoped>\n",
       "    .dataframe tbody tr th:only-of-type {\n",
       "        vertical-align: middle;\n",
       "    }\n",
       "\n",
       "    .dataframe tbody tr th {\n",
       "        vertical-align: top;\n",
       "    }\n",
       "\n",
       "    .dataframe thead th {\n",
       "        text-align: right;\n",
       "    }\n",
       "</style>\n",
       "<table border=\"1\" class=\"dataframe\">\n",
       "  <thead>\n",
       "    <tr style=\"text-align: right;\">\n",
       "      <th></th>\n",
       "      <th>PLANTA_PROCESSO</th>\n",
       "      <th>DATA</th>\n",
       "      <th>TOTAL_VALOR</th>\n",
       "    </tr>\n",
       "  </thead>\n",
       "  <tbody>\n",
       "    <tr>\n",
       "      <th>4944</th>\n",
       "      <td>1089 - Tubarão | DESCARGA</td>\n",
       "      <td>2017-08-31 12:00:00</td>\n",
       "      <td>327114.609</td>\n",
       "    </tr>\n",
       "    <tr>\n",
       "      <th>3742</th>\n",
       "      <td>1089 - Tubarão | DESCARGA</td>\n",
       "      <td>2017-09-01 12:00:00</td>\n",
       "      <td>313800.501</td>\n",
       "    </tr>\n",
       "    <tr>\n",
       "      <th>3769</th>\n",
       "      <td>1089 - Tubarão | DESCARGA</td>\n",
       "      <td>2017-09-02 12:00:00</td>\n",
       "      <td>317138.942</td>\n",
       "    </tr>\n",
       "    <tr>\n",
       "      <th>3615</th>\n",
       "      <td>1089 - Tubarão | DESCARGA</td>\n",
       "      <td>2017-09-03 12:00:00</td>\n",
       "      <td>280568.277</td>\n",
       "    </tr>\n",
       "    <tr>\n",
       "      <th>4010</th>\n",
       "      <td>1089 - Tubarão | DESCARGA</td>\n",
       "      <td>2017-09-04 12:00:00</td>\n",
       "      <td>248434.039</td>\n",
       "    </tr>\n",
       "    <tr>\n",
       "      <th>...</th>\n",
       "      <td>...</td>\n",
       "      <td>...</td>\n",
       "      <td>...</td>\n",
       "    </tr>\n",
       "    <tr>\n",
       "      <th>4847</th>\n",
       "      <td>1089 - Tubarão | DESCARGA</td>\n",
       "      <td>2022-08-25 12:00:00</td>\n",
       "      <td>224455.136</td>\n",
       "    </tr>\n",
       "    <tr>\n",
       "      <th>5217</th>\n",
       "      <td>1089 - Tubarão | DESCARGA</td>\n",
       "      <td>2022-08-26 12:00:00</td>\n",
       "      <td>196634.351</td>\n",
       "    </tr>\n",
       "    <tr>\n",
       "      <th>5546</th>\n",
       "      <td>1089 - Tubarão | DESCARGA</td>\n",
       "      <td>2022-08-27 12:00:00</td>\n",
       "      <td>266354.338</td>\n",
       "    </tr>\n",
       "    <tr>\n",
       "      <th>5744</th>\n",
       "      <td>1089 - Tubarão | DESCARGA</td>\n",
       "      <td>2022-08-28 12:00:00</td>\n",
       "      <td>233411.492</td>\n",
       "    </tr>\n",
       "    <tr>\n",
       "      <th>6974</th>\n",
       "      <td>1089 - Tubarão | DESCARGA</td>\n",
       "      <td>2022-08-29 12:00:00</td>\n",
       "      <td>194707.880</td>\n",
       "    </tr>\n",
       "  </tbody>\n",
       "</table>\n",
       "<p>1825 rows × 3 columns</p>\n",
       "</div>"
      ],
      "text/plain": [
       "                PLANTA_PROCESSO                DATA  TOTAL_VALOR\n",
       "4944  1089 - Tubarão | DESCARGA 2017-08-31 12:00:00   327114.609\n",
       "3742  1089 - Tubarão | DESCARGA 2017-09-01 12:00:00   313800.501\n",
       "3769  1089 - Tubarão | DESCARGA 2017-09-02 12:00:00   317138.942\n",
       "3615  1089 - Tubarão | DESCARGA 2017-09-03 12:00:00   280568.277\n",
       "4010  1089 - Tubarão | DESCARGA 2017-09-04 12:00:00   248434.039\n",
       "...                         ...                 ...          ...\n",
       "4847  1089 - Tubarão | DESCARGA 2022-08-25 12:00:00   224455.136\n",
       "5217  1089 - Tubarão | DESCARGA 2022-08-26 12:00:00   196634.351\n",
       "5546  1089 - Tubarão | DESCARGA 2022-08-27 12:00:00   266354.338\n",
       "5744  1089 - Tubarão | DESCARGA 2022-08-28 12:00:00   233411.492\n",
       "6974  1089 - Tubarão | DESCARGA 2022-08-29 12:00:00   194707.880\n",
       "\n",
       "[1825 rows x 3 columns]"
      ]
     },
     "execution_count": 39,
     "metadata": {},
     "output_type": "execute_result"
    }
   ],
   "source": [
    "df_2 = df[df['PLANTA_PROCESSO'] == planta]\n",
    "df_2.sort_values('DATA')"
   ]
  },
  {
   "cell_type": "code",
   "execution_count": 40,
   "metadata": {},
   "outputs": [],
   "source": [
    "df_g = df_2.resample(rule='M', on='DATA')['TOTAL_VALOR'].sum()"
   ]
  },
  {
   "attachments": {},
   "cell_type": "markdown",
   "metadata": {},
   "source": [
    "## Aplicando o modelo Auto-Arima"
   ]
  },
  {
   "cell_type": "code",
   "execution_count": 41,
   "metadata": {},
   "outputs": [],
   "source": [
    "from pmdarima.arima import auto_arima"
   ]
  },
  {
   "cell_type": "code",
   "execution_count": 42,
   "metadata": {},
   "outputs": [
    {
     "name": "stdout",
     "output_type": "stream",
     "text": [
      " ARIMA(0,1,0)(0,1,0)[24]             : AIC=1147.385, Time=0.02 sec\n",
      " ARIMA(0,1,0)(0,1,1)[24]             : AIC=1125.789, Time=0.11 sec\n",
      " ARIMA(0,1,0)(0,1,2)[24]             : AIC=1126.829, Time=0.42 sec\n",
      " ARIMA(0,1,0)(1,1,0)[24]             : AIC=1134.155, Time=0.10 sec\n",
      " ARIMA(0,1,0)(1,1,1)[24]             : AIC=1127.451, Time=0.16 sec\n",
      " ARIMA(0,1,0)(1,1,2)[24]             : AIC=1128.690, Time=1.02 sec\n",
      " ARIMA(0,1,0)(2,1,0)[24]             : AIC=1127.186, Time=0.50 sec\n",
      " ARIMA(0,1,0)(2,1,1)[24]             : AIC=1128.617, Time=0.75 sec\n",
      " ARIMA(0,1,0)(2,1,2)[24]             : AIC=1130.070, Time=1.17 sec\n",
      " ARIMA(0,1,1)(0,1,0)[24]             : AIC=1174.709, Time=0.03 sec\n",
      " ARIMA(0,1,1)(0,1,1)[24]             : AIC=inf, Time=0.22 sec\n",
      " ARIMA(0,1,1)(0,1,2)[24]             : AIC=inf, Time=0.86 sec\n",
      " ARIMA(0,1,1)(1,1,0)[24]             : AIC=1133.098, Time=0.14 sec\n",
      " ARIMA(0,1,1)(1,1,1)[24]             : AIC=inf, Time=0.29 sec\n",
      " ARIMA(0,1,1)(1,1,2)[24]             : AIC=inf, Time=2.19 sec\n",
      " ARIMA(0,1,1)(2,1,0)[24]             : AIC=1112.541, Time=0.61 sec\n",
      " ARIMA(0,1,1)(2,1,1)[24]             : AIC=1114.541, Time=1.07 sec\n",
      " ARIMA(0,1,1)(2,1,2)[24]             : AIC=1116.541, Time=1.96 sec\n",
      " ARIMA(0,1,2)(0,1,0)[24]             : AIC=1183.881, Time=0.04 sec\n",
      " ARIMA(0,1,2)(0,1,1)[24]             : AIC=inf, Time=0.48 sec\n",
      " ARIMA(0,1,2)(0,1,2)[24]             : AIC=inf, Time=2.15 sec\n",
      " ARIMA(0,1,2)(1,1,0)[24]             : AIC=1137.643, Time=0.16 sec\n",
      " ARIMA(0,1,2)(1,1,1)[24]             : AIC=inf, Time=0.71 sec\n",
      " ARIMA(0,1,2)(1,1,2)[24]             : AIC=inf, Time=1.90 sec\n",
      " ARIMA(0,1,2)(2,1,0)[24]             : AIC=1113.521, Time=0.81 sec\n",
      " ARIMA(0,1,2)(2,1,1)[24]             : AIC=1115.521, Time=1.42 sec\n",
      " ARIMA(0,1,3)(0,1,0)[24]             : AIC=1183.960, Time=0.06 sec\n",
      " ARIMA(0,1,3)(0,1,1)[24]             : AIC=inf, Time=0.56 sec\n",
      " ARIMA(0,1,3)(0,1,2)[24]             : AIC=inf, Time=1.88 sec\n",
      " ARIMA(0,1,3)(1,1,0)[24]             : AIC=1138.103, Time=0.23 sec\n",
      " ARIMA(0,1,3)(1,1,1)[24]             : AIC=inf, Time=0.88 sec\n",
      " ARIMA(0,1,3)(2,1,0)[24]             : AIC=1115.370, Time=1.04 sec\n",
      " ARIMA(0,1,4)(0,1,0)[24]             : AIC=1182.978, Time=0.10 sec\n",
      " ARIMA(0,1,4)(0,1,1)[24]             : AIC=inf, Time=0.85 sec\n",
      " ARIMA(0,1,4)(1,1,0)[24]             : AIC=1139.417, Time=0.25 sec\n",
      " ARIMA(0,1,5)(0,1,0)[24]             : AIC=1200.780, Time=0.12 sec\n",
      " ARIMA(1,1,0)(0,1,0)[24]             : AIC=1180.839, Time=0.03 sec\n",
      " ARIMA(1,1,0)(0,1,1)[24]             : AIC=inf, Time=0.33 sec\n",
      " ARIMA(1,1,0)(0,1,2)[24]             : AIC=inf, Time=1.29 sec\n",
      " ARIMA(1,1,0)(1,1,0)[24]             : AIC=1135.531, Time=0.17 sec\n",
      " ARIMA(1,1,0)(1,1,1)[24]             : AIC=inf, Time=0.52 sec\n",
      " ARIMA(1,1,0)(1,1,2)[24]             : AIC=inf, Time=1.74 sec\n",
      " ARIMA(1,1,0)(2,1,0)[24]             : AIC=inf, Time=0.67 sec\n",
      " ARIMA(1,1,0)(2,1,1)[24]             : AIC=1113.768, Time=1.12 sec\n",
      " ARIMA(1,1,0)(2,1,2)[24]             : AIC=1115.768, Time=1.55 sec\n",
      " ARIMA(1,1,1)(0,1,0)[24]             : AIC=1177.759, Time=0.13 sec\n",
      " ARIMA(1,1,1)(0,1,1)[24]             : AIC=inf, Time=0.33 sec\n",
      " ARIMA(1,1,1)(0,1,2)[24]             : AIC=inf, Time=1.58 sec\n",
      " ARIMA(1,1,1)(1,1,0)[24]             : AIC=1135.446, Time=0.30 sec\n",
      " ARIMA(1,1,1)(1,1,1)[24]             : AIC=inf, Time=0.51 sec\n",
      " ARIMA(1,1,1)(1,1,2)[24]             : AIC=inf, Time=4.52 sec\n",
      " ARIMA(1,1,1)(2,1,0)[24]             : AIC=1114.260, Time=1.72 sec\n",
      " ARIMA(1,1,1)(2,1,1)[24]             : AIC=1116.260, Time=2.34 sec\n",
      " ARIMA(1,1,2)(0,1,0)[24]             : AIC=1188.391, Time=0.11 sec\n",
      " ARIMA(1,1,2)(0,1,1)[24]             : AIC=inf, Time=0.63 sec\n",
      " ARIMA(1,1,2)(0,1,2)[24]             : AIC=inf, Time=2.64 sec\n",
      " ARIMA(1,1,2)(1,1,0)[24]             : AIC=1140.272, Time=0.35 sec\n",
      " ARIMA(1,1,2)(1,1,1)[24]             : AIC=inf, Time=0.97 sec\n",
      " ARIMA(1,1,2)(2,1,0)[24]             : AIC=1115.159, Time=1.80 sec\n",
      " ARIMA(1,1,3)(0,1,0)[24]             : AIC=1185.944, Time=0.20 sec\n",
      " ARIMA(1,1,3)(0,1,1)[24]             : AIC=inf, Time=1.04 sec\n",
      " ARIMA(1,1,3)(1,1,0)[24]             : AIC=1140.131, Time=0.60 sec\n",
      " ARIMA(1,1,4)(0,1,0)[24]             : AIC=inf, Time=0.39 sec\n",
      " ARIMA(2,1,0)(0,1,0)[24]             : AIC=1180.573, Time=0.04 sec\n",
      " ARIMA(2,1,0)(0,1,1)[24]             : AIC=inf, Time=0.35 sec\n",
      " ARIMA(2,1,0)(0,1,2)[24]             : AIC=inf, Time=1.46 sec\n",
      " ARIMA(2,1,0)(1,1,0)[24]             : AIC=1136.219, Time=0.25 sec\n",
      " ARIMA(2,1,0)(1,1,1)[24]             : AIC=inf, Time=0.61 sec\n",
      " ARIMA(2,1,0)(1,1,2)[24]             : AIC=inf, Time=2.51 sec\n",
      " ARIMA(2,1,0)(2,1,0)[24]             : AIC=inf, Time=1.15 sec\n",
      " ARIMA(2,1,0)(2,1,1)[24]             : AIC=1115.923, Time=3.35 sec\n",
      " ARIMA(2,1,1)(0,1,0)[24]             : AIC=1180.216, Time=0.23 sec\n",
      " ARIMA(2,1,1)(0,1,1)[24]             : AIC=inf, Time=0.97 sec\n",
      " ARIMA(2,1,1)(0,1,2)[24]             : AIC=inf, Time=4.47 sec\n",
      " ARIMA(2,1,1)(1,1,0)[24]             : AIC=1136.986, Time=0.71 sec\n",
      " ARIMA(2,1,1)(1,1,1)[24]             : AIC=inf, Time=1.32 sec\n",
      " ARIMA(2,1,1)(2,1,0)[24]             : AIC=1116.126, Time=2.52 sec\n",
      " ARIMA(2,1,2)(0,1,0)[24]             : AIC=inf, Time=0.43 sec\n",
      " ARIMA(2,1,2)(0,1,1)[24]             : AIC=inf, Time=1.97 sec\n",
      " ARIMA(2,1,2)(1,1,0)[24]             : AIC=1142.548, Time=0.84 sec\n",
      " ARIMA(2,1,3)(0,1,0)[24]             : AIC=inf, Time=0.62 sec\n",
      " ARIMA(3,1,0)(0,1,0)[24]             : AIC=1181.474, Time=0.07 sec\n",
      " ARIMA(3,1,0)(0,1,1)[24]             : AIC=inf, Time=0.63 sec\n",
      " ARIMA(3,1,0)(0,1,2)[24]             : AIC=inf, Time=2.53 sec\n",
      " ARIMA(3,1,0)(1,1,0)[24]             : AIC=1137.484, Time=0.34 sec\n",
      " ARIMA(3,1,0)(1,1,1)[24]             : AIC=inf, Time=0.75 sec\n",
      " ARIMA(3,1,0)(2,1,0)[24]             : AIC=inf, Time=1.18 sec\n",
      " ARIMA(3,1,1)(0,1,0)[24]             : AIC=1181.293, Time=0.14 sec\n",
      " ARIMA(3,1,1)(0,1,1)[24]             : AIC=inf, Time=0.71 sec\n",
      " ARIMA(3,1,1)(1,1,0)[24]             : AIC=1138.570, Time=0.62 sec\n",
      " ARIMA(3,1,2)(0,1,0)[24]             : AIC=inf, Time=0.54 sec\n",
      " ARIMA(4,1,0)(0,1,0)[24]             : AIC=1185.527, Time=0.08 sec\n",
      " ARIMA(4,1,0)(0,1,1)[24]             : AIC=inf, Time=1.06 sec\n",
      " ARIMA(4,1,0)(1,1,0)[24]             : AIC=1140.319, Time=0.49 sec\n",
      " ARIMA(4,1,1)(0,1,0)[24]             : AIC=1186.199, Time=0.20 sec\n",
      " ARIMA(5,1,0)(0,1,0)[24]             : AIC=1193.918, Time=0.13 sec\n",
      "\n",
      "Best model:  ARIMA(0,1,1)(2,1,0)[24]          \n",
      "Total fit time: 86.342 seconds\n"
     ]
    }
   ],
   "source": [
    "modelo = auto_arima(df_g, start_p=0, start_q=0, max_p=6, max_q=6, m=24, seasonal=True, d=1, D=1, trace=True, error_action='ignore', suppress_warnings=True, stepwise=False)"
   ]
  },
  {
   "cell_type": "code",
   "execution_count": 43,
   "metadata": {},
   "outputs": [
    {
     "name": "stdout",
     "output_type": "stream",
     "text": [
      "1112.5407007990323\n"
     ]
    }
   ],
   "source": [
    "print(modelo.aic())"
   ]
  },
  {
   "cell_type": "code",
   "execution_count": 44,
   "metadata": {},
   "outputs": [],
   "source": [
    "treino = df_g.loc['2017-08-31':'2020-08-31']\n",
    "teste = df_g.loc['2020-09-30':]"
   ]
  },
  {
   "cell_type": "code",
   "execution_count": 45,
   "metadata": {},
   "outputs": [
    {
     "data": {
      "text/html": [
       "<style>#sk-container-id-4 {color: black;background-color: white;}#sk-container-id-4 pre{padding: 0;}#sk-container-id-4 div.sk-toggleable {background-color: white;}#sk-container-id-4 label.sk-toggleable__label {cursor: pointer;display: block;width: 100%;margin-bottom: 0;padding: 0.3em;box-sizing: border-box;text-align: center;}#sk-container-id-4 label.sk-toggleable__label-arrow:before {content: \"▸\";float: left;margin-right: 0.25em;color: #696969;}#sk-container-id-4 label.sk-toggleable__label-arrow:hover:before {color: black;}#sk-container-id-4 div.sk-estimator:hover label.sk-toggleable__label-arrow:before {color: black;}#sk-container-id-4 div.sk-toggleable__content {max-height: 0;max-width: 0;overflow: hidden;text-align: left;background-color: #f0f8ff;}#sk-container-id-4 div.sk-toggleable__content pre {margin: 0.2em;color: black;border-radius: 0.25em;background-color: #f0f8ff;}#sk-container-id-4 input.sk-toggleable__control:checked~div.sk-toggleable__content {max-height: 200px;max-width: 100%;overflow: auto;}#sk-container-id-4 input.sk-toggleable__control:checked~label.sk-toggleable__label-arrow:before {content: \"▾\";}#sk-container-id-4 div.sk-estimator input.sk-toggleable__control:checked~label.sk-toggleable__label {background-color: #d4ebff;}#sk-container-id-4 div.sk-label input.sk-toggleable__control:checked~label.sk-toggleable__label {background-color: #d4ebff;}#sk-container-id-4 input.sk-hidden--visually {border: 0;clip: rect(1px 1px 1px 1px);clip: rect(1px, 1px, 1px, 1px);height: 1px;margin: -1px;overflow: hidden;padding: 0;position: absolute;width: 1px;}#sk-container-id-4 div.sk-estimator {font-family: monospace;background-color: #f0f8ff;border: 1px dotted black;border-radius: 0.25em;box-sizing: border-box;margin-bottom: 0.5em;}#sk-container-id-4 div.sk-estimator:hover {background-color: #d4ebff;}#sk-container-id-4 div.sk-parallel-item::after {content: \"\";width: 100%;border-bottom: 1px solid gray;flex-grow: 1;}#sk-container-id-4 div.sk-label:hover label.sk-toggleable__label {background-color: #d4ebff;}#sk-container-id-4 div.sk-serial::before {content: \"\";position: absolute;border-left: 1px solid gray;box-sizing: border-box;top: 0;bottom: 0;left: 50%;z-index: 0;}#sk-container-id-4 div.sk-serial {display: flex;flex-direction: column;align-items: center;background-color: white;padding-right: 0.2em;padding-left: 0.2em;position: relative;}#sk-container-id-4 div.sk-item {position: relative;z-index: 1;}#sk-container-id-4 div.sk-parallel {display: flex;align-items: stretch;justify-content: center;background-color: white;position: relative;}#sk-container-id-4 div.sk-item::before, #sk-container-id-4 div.sk-parallel-item::before {content: \"\";position: absolute;border-left: 1px solid gray;box-sizing: border-box;top: 0;bottom: 0;left: 50%;z-index: -1;}#sk-container-id-4 div.sk-parallel-item {display: flex;flex-direction: column;z-index: 1;position: relative;background-color: white;}#sk-container-id-4 div.sk-parallel-item:first-child::after {align-self: flex-end;width: 50%;}#sk-container-id-4 div.sk-parallel-item:last-child::after {align-self: flex-start;width: 50%;}#sk-container-id-4 div.sk-parallel-item:only-child::after {width: 0;}#sk-container-id-4 div.sk-dashed-wrapped {border: 1px dashed gray;margin: 0 0.4em 0.5em 0.4em;box-sizing: border-box;padding-bottom: 0.4em;background-color: white;}#sk-container-id-4 div.sk-label label {font-family: monospace;font-weight: bold;display: inline-block;line-height: 1.2em;}#sk-container-id-4 div.sk-label-container {text-align: center;}#sk-container-id-4 div.sk-container {/* jupyter's `normalize.less` sets `[hidden] { display: none; }` but bootstrap.min.css set `[hidden] { display: none !important; }` so we also need the `!important` here to be able to override the default hidden behavior on the sphinx rendered scikit-learn.org. See: https://github.com/scikit-learn/scikit-learn/issues/21755 */display: inline-block !important;position: relative;}#sk-container-id-4 div.sk-text-repr-fallback {display: none;}</style><div id=\"sk-container-id-4\" class=\"sk-top-container\"><div class=\"sk-text-repr-fallback\"><pre> ARIMA(0,1,1)(2,1,0)[24]          </pre><b>In a Jupyter environment, please rerun this cell to show the HTML representation or trust the notebook. <br />On GitHub, the HTML representation is unable to render, please try loading this page with nbviewer.org.</b></div><div class=\"sk-container\" hidden><div class=\"sk-item\"><div class=\"sk-estimator sk-toggleable\"><input class=\"sk-toggleable__control sk-hidden--visually\" id=\"sk-estimator-id-4\" type=\"checkbox\" checked><label for=\"sk-estimator-id-4\" class=\"sk-toggleable__label sk-toggleable__label-arrow\">ARIMA</label><div class=\"sk-toggleable__content\"><pre> ARIMA(0,1,1)(2,1,0)[24]          </pre></div></div></div></div></div>"
      ],
      "text/plain": [
       "ARIMA(order=(0, 1, 1), scoring_args={}, seasonal_order=(2, 1, 0, 24),\n",
       "      suppress_warnings=True, with_intercept=False)"
      ]
     },
     "execution_count": 45,
     "metadata": {},
     "output_type": "execute_result"
    }
   ],
   "source": [
    "modelo.fit(treino)"
   ]
  },
  {
   "cell_type": "code",
   "execution_count": 46,
   "metadata": {},
   "outputs": [],
   "source": [
    "forecast = modelo.predict(n_periods=24)"
   ]
  },
  {
   "cell_type": "code",
   "execution_count": 47,
   "metadata": {},
   "outputs": [],
   "source": [
    "forecast = pd.DataFrame(forecast, index=teste.index)"
   ]
  },
  {
   "cell_type": "code",
   "execution_count": 48,
   "metadata": {},
   "outputs": [
    {
     "data": {
      "text/html": [
       "<div>\n",
       "<style scoped>\n",
       "    .dataframe tbody tr th:only-of-type {\n",
       "        vertical-align: middle;\n",
       "    }\n",
       "\n",
       "    .dataframe tbody tr th {\n",
       "        vertical-align: top;\n",
       "    }\n",
       "\n",
       "    .dataframe thead th {\n",
       "        text-align: right;\n",
       "    }\n",
       "</style>\n",
       "<table border=\"1\" class=\"dataframe\">\n",
       "  <thead>\n",
       "    <tr style=\"text-align: right;\">\n",
       "      <th></th>\n",
       "      <th>0</th>\n",
       "    </tr>\n",
       "    <tr>\n",
       "      <th>DATA</th>\n",
       "      <th></th>\n",
       "    </tr>\n",
       "  </thead>\n",
       "  <tbody>\n",
       "    <tr>\n",
       "      <th>2020-09-30</th>\n",
       "      <td>5.241212e+06</td>\n",
       "    </tr>\n",
       "    <tr>\n",
       "      <th>2020-10-31</th>\n",
       "      <td>5.239551e+06</td>\n",
       "    </tr>\n",
       "    <tr>\n",
       "      <th>2020-11-30</th>\n",
       "      <td>5.240465e+06</td>\n",
       "    </tr>\n",
       "    <tr>\n",
       "      <th>2020-12-31</th>\n",
       "      <td>5.262586e+06</td>\n",
       "    </tr>\n",
       "    <tr>\n",
       "      <th>2021-01-31</th>\n",
       "      <td>5.236328e+06</td>\n",
       "    </tr>\n",
       "    <tr>\n",
       "      <th>2021-02-28</th>\n",
       "      <td>5.170412e+06</td>\n",
       "    </tr>\n",
       "    <tr>\n",
       "      <th>2021-03-31</th>\n",
       "      <td>5.179873e+06</td>\n",
       "    </tr>\n",
       "    <tr>\n",
       "      <th>2021-04-30</th>\n",
       "      <td>5.149835e+06</td>\n",
       "    </tr>\n",
       "    <tr>\n",
       "      <th>2021-05-31</th>\n",
       "      <td>5.156589e+06</td>\n",
       "    </tr>\n",
       "    <tr>\n",
       "      <th>2021-06-30</th>\n",
       "      <td>5.169486e+06</td>\n",
       "    </tr>\n",
       "    <tr>\n",
       "      <th>2021-07-31</th>\n",
       "      <td>5.172638e+06</td>\n",
       "    </tr>\n",
       "    <tr>\n",
       "      <th>2021-08-31</th>\n",
       "      <td>5.513593e+06</td>\n",
       "    </tr>\n",
       "    <tr>\n",
       "      <th>2021-09-30</th>\n",
       "      <td>1.452078e+07</td>\n",
       "    </tr>\n",
       "    <tr>\n",
       "      <th>2021-10-31</th>\n",
       "      <td>1.500448e+07</td>\n",
       "    </tr>\n",
       "    <tr>\n",
       "      <th>2021-11-30</th>\n",
       "      <td>1.438966e+07</td>\n",
       "    </tr>\n",
       "    <tr>\n",
       "      <th>2021-12-31</th>\n",
       "      <td>1.368716e+07</td>\n",
       "    </tr>\n",
       "    <tr>\n",
       "      <th>2022-01-31</th>\n",
       "      <td>1.406955e+07</td>\n",
       "    </tr>\n",
       "    <tr>\n",
       "      <th>2022-02-28</th>\n",
       "      <td>1.261338e+07</td>\n",
       "    </tr>\n",
       "    <tr>\n",
       "      <th>2022-03-31</th>\n",
       "      <td>1.185256e+07</td>\n",
       "    </tr>\n",
       "    <tr>\n",
       "      <th>2022-04-30</th>\n",
       "      <td>1.336022e+07</td>\n",
       "    </tr>\n",
       "    <tr>\n",
       "      <th>2022-05-31</th>\n",
       "      <td>1.447683e+07</td>\n",
       "    </tr>\n",
       "    <tr>\n",
       "      <th>2022-06-30</th>\n",
       "      <td>1.428523e+07</td>\n",
       "    </tr>\n",
       "    <tr>\n",
       "      <th>2022-07-31</th>\n",
       "      <td>1.438901e+07</td>\n",
       "    </tr>\n",
       "    <tr>\n",
       "      <th>2022-08-31</th>\n",
       "      <td>1.480821e+07</td>\n",
       "    </tr>\n",
       "  </tbody>\n",
       "</table>\n",
       "</div>"
      ],
      "text/plain": [
       "                       0\n",
       "DATA                    \n",
       "2020-09-30  5.241212e+06\n",
       "2020-10-31  5.239551e+06\n",
       "2020-11-30  5.240465e+06\n",
       "2020-12-31  5.262586e+06\n",
       "2021-01-31  5.236328e+06\n",
       "2021-02-28  5.170412e+06\n",
       "2021-03-31  5.179873e+06\n",
       "2021-04-30  5.149835e+06\n",
       "2021-05-31  5.156589e+06\n",
       "2021-06-30  5.169486e+06\n",
       "2021-07-31  5.172638e+06\n",
       "2021-08-31  5.513593e+06\n",
       "2021-09-30  1.452078e+07\n",
       "2021-10-31  1.500448e+07\n",
       "2021-11-30  1.438966e+07\n",
       "2021-12-31  1.368716e+07\n",
       "2022-01-31  1.406955e+07\n",
       "2022-02-28  1.261338e+07\n",
       "2022-03-31  1.185256e+07\n",
       "2022-04-30  1.336022e+07\n",
       "2022-05-31  1.447683e+07\n",
       "2022-06-30  1.428523e+07\n",
       "2022-07-31  1.438901e+07\n",
       "2022-08-31  1.480821e+07"
      ]
     },
     "execution_count": 48,
     "metadata": {},
     "output_type": "execute_result"
    }
   ],
   "source": [
    "forecast"
   ]
  },
  {
   "cell_type": "code",
   "execution_count": 49,
   "metadata": {},
   "outputs": [
    {
     "data": {
      "text/plain": [
       "<AxesSubplot: xlabel='DATA'>"
      ]
     },
     "execution_count": 49,
     "metadata": {},
     "output_type": "execute_result"
    },
    {
     "data": {
      "image/png": "[encoded data removed]",
      "text/plain": [
       "<Figure size 1152x576 with 1 Axes>"
      ]
     },
     "metadata": {
      "needs_background": "light"
     },
     "output_type": "display_data"
    }
   ],
   "source": [
    "pd.concat([teste,forecast], axis=1).plot()"
   ]
  },
  {
   "cell_type": "code",
   "execution_count": 50,
   "metadata": {},
   "outputs": [
    {
     "data": {
      "text/plain": [
       "<AxesSubplot: xlabel='DATA'>"
      ]
     },
     "execution_count": 50,
     "metadata": {},
     "output_type": "execute_result"
    },
    {
     "data": {
      "image/png": "[encoded data removed]",
      "text/plain": [
       "<Figure size 1152x576 with 1 Axes>"
      ]
     },
     "metadata": {
      "needs_background": "light"
     },
     "output_type": "display_data"
    }
   ],
   "source": [
    "pd.concat([df_g, forecast], axis=1,).plot(linewidth=1)"
   ]
  },
  {
   "cell_type": "code",
   "execution_count": null,
   "metadata": {},
   "outputs": [],
   "source": []
  }
 ],
 "metadata": {
  "kernelspec": {
   "display_name": "Python 3",
   "language": "python",
   "name": "python3"
  },
  "language_info": {
   "codemirror_mode": {
    "name": "ipython",
    "version": 3
   },
   "file_extension": ".py",
   "mimetype": "text/x-python",
   "name": "python",
   "nbconvert_exporter": "python",
   "pygments_lexer": "ipython3",
   "version": "3.9.10"
  },
  "orig_nbformat": 4,
  "vscode": {
   "interpreter": {
    "hash": "7d62a96da172c70c1e5d187d78197a80bb9190cfe93c20bfc144dedb83f5f18d"
   }
  }
 },
 "nbformat": 4,
 "nbformat_minor": 2
}
