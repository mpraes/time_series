{
 "cells": [
  {
   "attachments": {},
   "cell_type": "markdown",
   "metadata": {},
   "source": [
    "Uma série estacionária é uma série de dados que apresenta propriedades estatísticas constantes ao longo do tempo. Isso significa que a média, a variância e a autocovariância da série de dados não mudam ao longo do tempo. As séries estacionárias são comumente utilizadas em análises econômicas e financeiras, pois **é mais fácil prever o comportamento futuro de uma série estacionária do que de uma série não estacionária.**"
   ]
  },
  {
   "cell_type": "code",
   "execution_count": 10,
   "metadata": {},
   "outputs": [],
   "source": [
    "import pandas as pd\n",
    "import numpy as np\n",
    "import matplotlib.pylab as plt\n",
    "%matplotlib inline\n",
    "from matplotlib.pylab import rcParams\n",
    "rcParams['figure.figsize'] = [16,8] "
   ]
  },
  {
   "cell_type": "code",
   "execution_count": 11,
   "metadata": {},
   "outputs": [],
   "source": [
    "df = pd.read_excel('serie_historica_volume_portos.xlsx')\n",
    "planta_fase = input('Descreva a planta e a fase: ')\n",
    "df_2 = df[df['PLANTA_PROCESSO'] == planta_fase]\n",
    "df_g = df_2.resample(rule='M', on='DATA')['TOTAL_VALOR'].sum()\n",
    "titulo_grafico = df_2['PLANTA_PROCESSO'].unique()[0]"
   ]
  },
  {
   "cell_type": "code",
   "execution_count": 12,
   "metadata": {},
   "outputs": [
    {
     "data": {
      "text/plain": [
       "DATA\n",
       "2017-08-31     208607.000\n",
       "2017-09-30    5460072.443\n",
       "2017-10-31    5480975.807\n",
       "2017-11-30    4810702.896\n",
       "2017-12-31    3955779.332\n",
       "Freq: M, Name: TOTAL_VALOR, dtype: float64"
      ]
     },
     "execution_count": 12,
     "metadata": {},
     "output_type": "execute_result"
    }
   ],
   "source": [
    "df_g.head()"
   ]
  },
  {
   "attachments": {},
   "cell_type": "markdown",
   "metadata": {},
   "source": [
    "Abaixo será realizado o teste proposto por Dick Fuller bastante comum para descobrir a estacionariedade.\n",
    "\n",
    "Se o resultado do valor de P for menor que 0.05, então sugere que a série selecionada é Estacionária. Caso não, precisa transformar a série em estacionária para que aconteça melhor previsão"
   ]
  },
  {
   "cell_type": "code",
   "execution_count": 13,
   "metadata": {},
   "outputs": [],
   "source": [
    "\n",
    "from statsmodels.tsa.stattools import adfuller"
   ]
  },
  {
   "cell_type": "code",
   "execution_count": 14,
   "metadata": {},
   "outputs": [
    {
     "name": "stdout",
     "output_type": "stream",
     "text": [
      "ADF estatísticas: -3.593195\n",
      "Valor de P: 0.005892\n",
      "Valores Críticos: %f\n",
      "\t1%: -3.544\n",
      "\t5%: -2.911\n",
      "\t10%: -2.593\n"
     ]
    }
   ],
   "source": [
    "resultado_adf = adfuller(df_g)\n",
    "print(\"ADF estatísticas: %f\" % resultado_adf[0])\n",
    "print(\"Valor de P: %f\" % resultado_adf[1])\n",
    "print(\"Valores Críticos: %f\")\n",
    "for key, value in resultado_adf[4].items():\n",
    "    print('\\t%s: %.3f' % (key,value))\n"
   ]
  },
  {
   "cell_type": "code",
   "execution_count": null,
   "metadata": {},
   "outputs": [],
   "source": []
  }
 ],
 "metadata": {
  "kernelspec": {
   "display_name": "Python 3",
   "language": "python",
   "name": "python3"
  },
  "language_info": {
   "codemirror_mode": {
    "name": "ipython",
    "version": 3
   },
   "file_extension": ".py",
   "mimetype": "text/x-python",
   "name": "python",
   "nbconvert_exporter": "python",
   "pygments_lexer": "ipython3",
   "version": "3.9.10"
  },
  "orig_nbformat": 4,
  "vscode": {
   "interpreter": {
    "hash": "7d62a96da172c70c1e5d187d78197a80bb9190cfe93c20bfc144dedb83f5f18d"
   }
  }
 },
 "nbformat": 4,
 "nbformat_minor": 2
}
