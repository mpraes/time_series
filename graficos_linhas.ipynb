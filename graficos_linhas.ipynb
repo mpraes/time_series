{
 "cells": [
  {
   "cell_type": "code",
   "execution_count": 59,
   "metadata": {},
   "outputs": [],
   "source": [
    "import pandas as pd\n",
    "import numpy as np\n",
    "import matplotlib.pylab as plt\n",
    "%matplotlib inline\n",
    "from matplotlib.pylab import rcParams\n",
    "rcParams['figure.figsize'] = [16,8]\n",
    "from datetime import datetime"
   ]
  },
  {
   "cell_type": "code",
   "execution_count": 74,
   "metadata": {},
   "outputs": [],
   "source": [
    "dateparse = lambda dates: datetime.strptime(dates, '%b-%y')\n",
    "df = pd.read_csv('producao-mar-2021.csv', sep=',', parse_dates=['Mês/Ano'], index_col= ['Mês/Ano'],date_parser=dateparse, encoding = 'cp1252')"
   ]
  },
  {
   "cell_type": "code",
   "execution_count": 90,
   "metadata": {},
   "outputs": [
    {
     "name": "stderr",
     "output_type": "stream",
     "text": [
      "C:\\Users\\LVVE2K631\\AppData\\Local\\Temp\\ipykernel_15840\\3846745769.py:1: FutureWarning: As the xlwt package is no longer maintained, the xlwt engine will be removed in a future version of pandas. This is the only engine in pandas that supports writing in the xls format. Install openpyxl and write to an xlsx file instead. You can set the option io.excel.xls.writer to 'xlwt' to silence this warning. While this option is deprecated and will also raise a warning, it can be globally set and the warning suppressed.\n",
      "  df.to_excel('prod_mar_2021_tratado.xls', index=True, header=True)\n"
     ]
    }
   ],
   "source": [
    "df.to_excel('prod_mar_2021_tratado.xls', index=True, header=True)"
   ]
  },
  {
   "cell_type": "code",
   "execution_count": 76,
   "metadata": {},
   "outputs": [],
   "source": [
    "df['Informacoes'] = df['Estado'].map(str) + '-' + df['Bacia'].map(str) + '-' + df['Campo'].map(str)+ '-' + df['Poço'].map(str) + '-' + df['Ambiente'].map(str)+ '-' + df['Instalação'].map(str)"
   ]
  },
  {
   "cell_type": "code",
   "execution_count": 77,
   "metadata": {},
   "outputs": [],
   "source": [
    "df2 = df[['Produção de Óleo (m³)','Informacoes']]"
   ]
  },
  {
   "cell_type": "code",
   "execution_count": 78,
   "metadata": {},
   "outputs": [
    {
     "name": "stdout",
     "output_type": "stream",
     "text": [
      "(21149, 2)\n",
      "(21149, 22)\n"
     ]
    }
   ],
   "source": [
    "print(df2.shape)\n",
    "print(df.shape)"
   ]
  },
  {
   "cell_type": "code",
   "execution_count": 81,
   "metadata": {},
   "outputs": [
    {
     "data": {
      "text/html": [
       "<div>\n",
       "<style scoped>\n",
       "    .dataframe tbody tr th:only-of-type {\n",
       "        vertical-align: middle;\n",
       "    }\n",
       "\n",
       "    .dataframe tbody tr th {\n",
       "        vertical-align: top;\n",
       "    }\n",
       "\n",
       "    .dataframe thead th {\n",
       "        text-align: right;\n",
       "    }\n",
       "</style>\n",
       "<table border=\"1\" class=\"dataframe\">\n",
       "  <thead>\n",
       "    <tr style=\"text-align: right;\">\n",
       "      <th></th>\n",
       "      <th>Informacoes</th>\n",
       "    </tr>\n",
       "    <tr>\n",
       "      <th>Mês/Ano</th>\n",
       "      <th></th>\n",
       "    </tr>\n",
       "  </thead>\n",
       "  <tbody>\n",
       "    <tr>\n",
       "      <th>2021-01-01</th>\n",
       "      <td>Alagoas-Alagoas-PARU-4-ALS-39-AL-Mar-Estação d...</td>\n",
       "    </tr>\n",
       "    <tr>\n",
       "      <th>2021-01-01</th>\n",
       "      <td>Bahia-Camamu-MANATI-7-MNT-1-BAS-Mar-PLATAFORMA...</td>\n",
       "    </tr>\n",
       "    <tr>\n",
       "      <th>2021-01-01</th>\n",
       "      <td>Bahia-Camamu-MANATI-7-MNT-2-BAS-Mar-PLATAFORMA...</td>\n",
       "    </tr>\n",
       "    <tr>\n",
       "      <th>2021-01-01</th>\n",
       "      <td>Bahia-Camamu-MANATI-7-MNT-3-BAS-Mar-PLATAFORMA...</td>\n",
       "    </tr>\n",
       "    <tr>\n",
       "      <th>2021-01-01</th>\n",
       "      <td>Bahia-Camamu-MANATI-7-MNT-4-BAS-Mar-PLATAFORMA...</td>\n",
       "    </tr>\n",
       "    <tr>\n",
       "      <th>...</th>\n",
       "      <td>...</td>\n",
       "    </tr>\n",
       "    <tr>\n",
       "      <th>2021-12-01</th>\n",
       "      <td>Rio de Janeiro-Santos-MERO-9-MRO-5-RJS-Mar-FPS...</td>\n",
       "    </tr>\n",
       "    <tr>\n",
       "      <th>2021-12-01</th>\n",
       "      <td>Rio de Janeiro-Santos-OESTE DE ATAPU-3-BRSA-12...</td>\n",
       "    </tr>\n",
       "    <tr>\n",
       "      <th>2021-12-01</th>\n",
       "      <td>Rio de Janeiro-Santos-SÉPIA-7-SEP-6-RJS-Mar-FP...</td>\n",
       "    </tr>\n",
       "    <tr>\n",
       "      <th>2021-12-01</th>\n",
       "      <td>Rio de Janeiro-Santos-SÉPIA LESTE-7-SEP-6-RJS-...</td>\n",
       "    </tr>\n",
       "    <tr>\n",
       "      <th>2021-12-01</th>\n",
       "      <td>Rio de Janeiro-Santos-TUPI-7-LL-69-RJS-Mar-Não...</td>\n",
       "    </tr>\n",
       "  </tbody>\n",
       "</table>\n",
       "<p>2150 rows × 1 columns</p>\n",
       "</div>"
      ],
      "text/plain": [
       "                                                  Informacoes\n",
       "Mês/Ano                                                      \n",
       "2021-01-01  Alagoas-Alagoas-PARU-4-ALS-39-AL-Mar-Estação d...\n",
       "2021-01-01  Bahia-Camamu-MANATI-7-MNT-1-BAS-Mar-PLATAFORMA...\n",
       "2021-01-01  Bahia-Camamu-MANATI-7-MNT-2-BAS-Mar-PLATAFORMA...\n",
       "2021-01-01  Bahia-Camamu-MANATI-7-MNT-3-BAS-Mar-PLATAFORMA...\n",
       "2021-01-01  Bahia-Camamu-MANATI-7-MNT-4-BAS-Mar-PLATAFORMA...\n",
       "...                                                       ...\n",
       "2021-12-01  Rio de Janeiro-Santos-MERO-9-MRO-5-RJS-Mar-FPS...\n",
       "2021-12-01  Rio de Janeiro-Santos-OESTE DE ATAPU-3-BRSA-12...\n",
       "2021-12-01  Rio de Janeiro-Santos-SÉPIA-7-SEP-6-RJS-Mar-FP...\n",
       "2021-12-01  Rio de Janeiro-Santos-SÉPIA LESTE-7-SEP-6-RJS-...\n",
       "2021-12-01  Rio de Janeiro-Santos-TUPI-7-LL-69-RJS-Mar-Não...\n",
       "\n",
       "[2150 rows x 1 columns]"
      ]
     },
     "execution_count": 81,
     "metadata": {},
     "output_type": "execute_result"
    }
   ],
   "source": [
    "#Aplicando valores únicos nas colunas categóricas para entender o que temos\n",
    "df_dist = pd.DataFrame(df2, columns=['Informacoes'])\n",
    "df_dist.drop_duplicates()"
   ]
  },
  {
   "cell_type": "code",
   "execution_count": 82,
   "metadata": {},
   "outputs": [
    {
     "name": "stderr",
     "output_type": "stream",
     "text": [
      "C:\\Users\\LVVE2K631\\AppData\\Local\\Temp\\ipykernel_15840\\453626621.py:1: FutureWarning: As the xlwt package is no longer maintained, the xlwt engine will be removed in a future version of pandas. This is the only engine in pandas that supports writing in the xls format. Install openpyxl and write to an xlsx file instead. You can set the option io.excel.xls.writer to 'xlwt' to silence this warning. While this option is deprecated and will also raise a warning, it can be globally set and the warning suppressed.\n",
      "  df_dist.to_excel('categorias_producao_petroleo.xls', index=False, header=True)\n"
     ]
    }
   ],
   "source": [
    "df_dist.to_excel('categorias_producao_petroleo.xls', index=False, header=True)"
   ]
  },
  {
   "cell_type": "code",
   "execution_count": 88,
   "metadata": {},
   "outputs": [],
   "source": [
    "local = input(\"Qual local escolher: \")\n",
    "df_2 = df2[df2['Informacoes'] == local]"
   ]
  },
  {
   "cell_type": "code",
   "execution_count": 89,
   "metadata": {},
   "outputs": [
    {
     "data": {
      "text/html": [
       "<div>\n",
       "<style scoped>\n",
       "    .dataframe tbody tr th:only-of-type {\n",
       "        vertical-align: middle;\n",
       "    }\n",
       "\n",
       "    .dataframe tbody tr th {\n",
       "        vertical-align: top;\n",
       "    }\n",
       "\n",
       "    .dataframe thead th {\n",
       "        text-align: right;\n",
       "    }\n",
       "</style>\n",
       "<table border=\"1\" class=\"dataframe\">\n",
       "  <thead>\n",
       "    <tr style=\"text-align: right;\">\n",
       "      <th></th>\n",
       "      <th>Produção de Óleo (m³)</th>\n",
       "      <th>Informacoes</th>\n",
       "    </tr>\n",
       "    <tr>\n",
       "      <th>Mês/Ano</th>\n",
       "      <th></th>\n",
       "      <th></th>\n",
       "    </tr>\n",
       "  </thead>\n",
       "  <tbody>\n",
       "    <tr>\n",
       "      <th>2021-05-01</th>\n",
       "      <td>0.0</td>\n",
       "      <td>Rio Grande do Norte-Potiguar-UBARANA-7-UB-52-R...</td>\n",
       "    </tr>\n",
       "    <tr>\n",
       "      <th>2021-11-01</th>\n",
       "      <td>NaN</td>\n",
       "      <td>São Paulo-Santos-NOROESTE DE SAPINHOÁ-8-SPH-19...</td>\n",
       "    </tr>\n",
       "    <tr>\n",
       "      <th>2021-05-01</th>\n",
       "      <td>NaN</td>\n",
       "      <td>Rio de Janeiro-Campos-BARRACUDA-1-RJS-380-RJS-...</td>\n",
       "    </tr>\n",
       "    <tr>\n",
       "      <th>2021-09-01</th>\n",
       "      <td>15510.0</td>\n",
       "      <td>Espírito Santo-Campos-JUBARTE-7-JUB-55-ESS-Mar...</td>\n",
       "    </tr>\n",
       "    <tr>\n",
       "      <th>2021-08-01</th>\n",
       "      <td>0.0</td>\n",
       "      <td>Espírito Santo-Espírito Santo-CANGOÁ-7-CAN-1D-...</td>\n",
       "    </tr>\n",
       "    <tr>\n",
       "      <th>2021-03-01</th>\n",
       "      <td>10897.0</td>\n",
       "      <td>Rio de Janeiro-Campos-MARLIM SUL-6-BRSA-517-RJ...</td>\n",
       "    </tr>\n",
       "    <tr>\n",
       "      <th>2021-05-01</th>\n",
       "      <td>0.0</td>\n",
       "      <td>Rio de Janeiro-Campos-ALBACORA-7-AB-50DB-RJS-M...</td>\n",
       "    </tr>\n",
       "    <tr>\n",
       "      <th>2021-11-01</th>\n",
       "      <td>0.0</td>\n",
       "      <td>Sergipe-Sergipe-CAIOBA-7-CB-30D-SES-Mar-Não In...</td>\n",
       "    </tr>\n",
       "    <tr>\n",
       "      <th>2021-11-01</th>\n",
       "      <td>48722.0</td>\n",
       "      <td>Rio de Janeiro-Santos-BÚZIOS-7-BUZ-30-RJS-Mar-...</td>\n",
       "    </tr>\n",
       "    <tr>\n",
       "      <th>2021-11-01</th>\n",
       "      <td>0.0</td>\n",
       "      <td>Sergipe-Sergipe-GUARICEMA-7-GA-35D-SES-Mar-Não...</td>\n",
       "    </tr>\n",
       "  </tbody>\n",
       "</table>\n",
       "</div>"
      ],
      "text/plain": [
       "            Produção de Óleo (m³)  \\\n",
       "Mês/Ano                             \n",
       "2021-05-01                    0.0   \n",
       "2021-11-01                    NaN   \n",
       "2021-05-01                    NaN   \n",
       "2021-09-01                15510.0   \n",
       "2021-08-01                    0.0   \n",
       "2021-03-01                10897.0   \n",
       "2021-05-01                    0.0   \n",
       "2021-11-01                    0.0   \n",
       "2021-11-01                48722.0   \n",
       "2021-11-01                    0.0   \n",
       "\n",
       "                                                  Informacoes  \n",
       "Mês/Ano                                                        \n",
       "2021-05-01  Rio Grande do Norte-Potiguar-UBARANA-7-UB-52-R...  \n",
       "2021-11-01  São Paulo-Santos-NOROESTE DE SAPINHOÁ-8-SPH-19...  \n",
       "2021-05-01  Rio de Janeiro-Campos-BARRACUDA-1-RJS-380-RJS-...  \n",
       "2021-09-01  Espírito Santo-Campos-JUBARTE-7-JUB-55-ESS-Mar...  \n",
       "2021-08-01  Espírito Santo-Espírito Santo-CANGOÁ-7-CAN-1D-...  \n",
       "2021-03-01  Rio de Janeiro-Campos-MARLIM SUL-6-BRSA-517-RJ...  \n",
       "2021-05-01  Rio de Janeiro-Campos-ALBACORA-7-AB-50DB-RJS-M...  \n",
       "2021-11-01  Sergipe-Sergipe-CAIOBA-7-CB-30D-SES-Mar-Não In...  \n",
       "2021-11-01  Rio de Janeiro-Santos-BÚZIOS-7-BUZ-30-RJS-Mar-...  \n",
       "2021-11-01  Sergipe-Sergipe-GUARICEMA-7-GA-35D-SES-Mar-Não...  "
      ]
     },
     "execution_count": 89,
     "metadata": {},
     "output_type": "execute_result"
    }
   ],
   "source": [
    "df2.sample(10)"
   ]
  },
  {
   "cell_type": "code",
   "execution_count": null,
   "metadata": {},
   "outputs": [],
   "source": []
  }
 ],
 "metadata": {
  "kernelspec": {
   "display_name": "Python 3",
   "language": "python",
   "name": "python3"
  },
  "language_info": {
   "codemirror_mode": {
    "name": "ipython",
    "version": 3
   },
   "file_extension": ".py",
   "mimetype": "text/x-python",
   "name": "python",
   "nbconvert_exporter": "python",
   "pygments_lexer": "ipython3",
   "version": "3.9.10"
  },
  "orig_nbformat": 4,
  "vscode": {
   "interpreter": {
    "hash": "7d62a96da172c70c1e5d187d78197a80bb9190cfe93c20bfc144dedb83f5f18d"
   }
  }
 },
 "nbformat": 4,
 "nbformat_minor": 2
}
